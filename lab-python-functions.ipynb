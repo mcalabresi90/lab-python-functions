{
 "cells": [
  {
   "cell_type": "code",
   "execution_count": null,
   "metadata": {},
   "outputs": [
    {
     "name": "stdout",
     "output_type": "stream",
     "text": [
      "Final inventory: {}\n"
     ]
    }
   ],
   "source": [
    "## Exercise: Managing Customer Orders with Functions\n",
    "\n",
    "In the previous exercise, you improved the code for managing customer orders by using loops and flow control. Now, let's take it a step further and refactor the code by introducing functions.\n",
    "\n",
    "Follow the steps below to complete the exercise:\n",
    "\n",
    "1. Define a function named `initialize_inventory` that takes `products` as a parameter. Inside the function, implement the code for initializing the inventory dictionary using a loop and user input.\n",
    "\n",
    "2. Define a function named `get_customer_orders` that takes no parameters. Inside the function, implement the code for prompting the user to enter the product names using a loop. The function should return the `customer_orders` set.\n",
    "\n",
    "3. Define a function named `update_inventory` that takes `customer_orders` and `inventory` as parameters. Inside the function, implement the code for updating the inventory dictionary based on the customer orders.\n",
    "\n",
    "4. Define a function named `calculate_order_statistics` that takes `customer_orders` and `products` as parameters. Inside the function, implement the code for calculating the order statistics (total products ordered, and percentage of unique products ordered). The function should return these values.\n",
    "\n",
    "5. Define a function named `print_order_statistics` that takes `order_statistics` as a parameter. Inside the function, implement the code for printing the order statistics.\n",
    "\n",
    "6. Define a function named `print_updated_inventory` that takes `inventory` as a parameter. Inside the function, implement the code for printing the updated inventory.\n",
    "\n",
    "7. Call the functions in the appropriate sequence to execute the program and manage customer orders.\n",
    "\n",
    "Hints for functions:\n",
    "\n",
    "- Consider the input parameters required for each function and their return values.\n",
    "- Utilize function parameters and return values to transfer data between functions.\n",
    "- Test your functions individually to ensure they work correctly.\n",
    "\n",
    "\n",
    "\n"
   ]
  },
  {
   "cell_type": "code",
   "execution_count": 108,
   "metadata": {},
   "outputs": [
    {
     "name": "stdout",
     "output_type": "stream",
     "text": [
      "Final inventory: {'a': 4, 'b': 5, 'c': 6}\n"
     ]
    }
   ],
   "source": [
    "def initialize_inventory():\n",
    "    inventory = {}\n",
    "\n",
    "    start_inventory = input(\"Would you like to add products to the inventory? Y/N: \").strip()\n",
    "    \n",
    "    if start_inventory.lower() == \"y\":\n",
    "        while True:\n",
    "            product = input(\"Enter product you want to add or write 'exit' to finish: \").strip()\n",
    "\n",
    "            if product.lower() == \"exit\":  \n",
    "                break\n",
    "            \n",
    "            quantity = input(f\"Enter quantity for {product}: \").strip()\n",
    "            \n",
    "            if not quantity.isdigit() or int(quantity) < 1:\n",
    "                print(\"Invalid input, please type a number greater than 0.\")\n",
    "                continue  \n",
    "                \n",
    "            inventory[product] = int(quantity)  \n",
    "     \n",
    "    elif start_inventory.lower() == \"n\":\n",
    "        print(\"No products were added to the inventory.\")  \n",
    "\n",
    "    print(\"Final inventory:\", inventory)  \n",
    "    return inventory  \n",
    "\n",
    "inventory = initialize_inventory()\n",
    "\n"
   ]
  },
  {
   "cell_type": "code",
   "execution_count": 109,
   "metadata": {},
   "outputs": [],
   "source": [
    "def get_customer_orders():\n",
    "    customer_orders = set()\n",
    "\n",
    "    while True:\n",
    "        add_product = input(\"Enter product name (or type 'exit' to finish): \").strip().lower()\n",
    "        if add_product == 'exit':\n",
    "            break\n",
    "        customer_orders.add(add_product)\n",
    "\n",
    "    return customer_orders\n",
    "\n",
    "customer_orders = get_customer_orders()\n"
   ]
  },
  {
   "cell_type": "code",
   "execution_count": 110,
   "metadata": {},
   "outputs": [
    {
     "name": "stdout",
     "output_type": "stream",
     "text": [
      "Updated a: 3 left.\n",
      "Updated c: 4 left.\n",
      "Updated inventory: {'a': 3, 'b': 5, 'c': 4}\n"
     ]
    }
   ],
   "source": [
    "def update_inventory(customer_orders, inventory):\n",
    "    order_quantities = {}\n",
    "\n",
    "    for product in customer_orders:\n",
    "        if product in inventory:\n",
    "            while True:\n",
    "                try:\n",
    "                    quantity = int(input(f\"Enter quantity for {product} (Available: {inventory[product]}): \"))\n",
    "\n",
    "                    if quantity < 1:\n",
    "                        print(\"Invalid quantity. Must be at least 1.\")\n",
    "                        continue\n",
    "\n",
    "                    if inventory[product] >= quantity:\n",
    "                        inventory[product] -= quantity\n",
    "                        order_quantities[product] = quantity\n",
    "                        print(f\"Updated {product}: {inventory[product]} left.\")\n",
    "                    else:\n",
    "                        print(f\"Not enough stock for {product}. Only {inventory[product]} available.\")\n",
    "\n",
    "                    break\n",
    "                except ValueError:\n",
    "                    print(\"Invalid input. Please enter a number.\")\n",
    "        else:\n",
    "            print(f\"{product} not found in inventory.\")\n",
    "\n",
    "    print(\"Updated inventory:\", inventory)\n",
    "    return inventory, order_quantities\n",
    "\n",
    "inventory, order_quantities = update_inventory(customer_orders, inventory)\n",
    "\n"
   ]
  },
  {
   "cell_type": "code",
   "execution_count": 111,
   "metadata": {},
   "outputs": [],
   "source": [
    "def calculate_order_statistics(customer_orders, order_quantities, inventory):\n",
    "    total_products_ordered = sum(order_quantities.values())\n",
    "    total_products_available = len(inventory)\n",
    "    percentage_of_unique_products_ordered = (len(customer_orders) / total_products_available) * 100 if total_products_available > 0 else 0\n",
    "    return total_products_ordered, percentage_of_unique_products_ordered\n",
    "\n",
    "order_statistics = calculate_order_statistics(customer_orders, order_quantities, inventory)\n",
    "\n"
   ]
  },
  {
   "cell_type": "code",
   "execution_count": 112,
   "metadata": {},
   "outputs": [
    {
     "name": "stdout",
     "output_type": "stream",
     "text": [
      "The total amount of products ordered is: 3\n",
      "The percentage of unique products ordered is: 66.67 %\n"
     ]
    }
   ],
   "source": [
    "def print_order_statistics(order_statistics):\n",
    "    total_products_ordered, percentage_of_unique_products_ordered = order_statistics\n",
    "    print(\"The total amount of products ordered is:\", total_products_ordered)\n",
    "    print(\"The percentage of unique products ordered is:\", round(percentage_of_unique_products_ordered, 2), \"%\")\n",
    "\n",
    "print_order_statistics(order_statistics)\n",
    "\n"
   ]
  },
  {
   "cell_type": "code",
   "execution_count": 113,
   "metadata": {},
   "outputs": [
    {
     "name": "stdout",
     "output_type": "stream",
     "text": [
      "Updated Inventory:\n",
      "a: 3\n",
      "b: 5\n",
      "c: 4\n"
     ]
    }
   ],
   "source": [
    "def print_updated_inventory(inventory):\n",
    "    print(\"Updated Inventory:\")\n",
    "    for product, quantity in inventory.items():\n",
    "        print(f\"{product}: {quantity}\")\n",
    "\n",
    "print_updated_inventory(inventory)\n",
    "\n",
    "\n"
   ]
  },
  {
   "cell_type": "code",
   "execution_count": 114,
   "metadata": {},
   "outputs": [
    {
     "name": "stdout",
     "output_type": "stream",
     "text": [
      "Final inventory: {'a': 1, 'b': 2, 'c': 3, 'd': 4}\n",
      "Updated a: 0 left.\n",
      "Updated c: 1 left.\n",
      "Updated inventory: {'a': 0, 'b': 2, 'c': 1, 'd': 4}\n",
      "The total amount of products ordered is: 3\n",
      "The percentage of unique products ordered is: 50.0 %\n",
      "Updated Inventory:\n",
      "a: 0\n",
      "b: 2\n",
      "c: 1\n",
      "d: 4\n"
     ]
    }
   ],
   "source": [
    "inventory = initialize_inventory()\n",
    "customer_orders = get_customer_orders()\n",
    "inventory, order_quantities = update_inventory(customer_orders, inventory)\n",
    "order_statistics = calculate_order_statistics(customer_orders, order_quantities, inventory)\n",
    "\n",
    "print_order_statistics(order_statistics)\n",
    "print_updated_inventory(inventory)\n"
   ]
  },
  {
   "cell_type": "code",
   "execution_count": null,
   "metadata": {},
   "outputs": [],
   "source": []
  }
 ],
 "metadata": {
  "kernelspec": {
   "display_name": "base",
   "language": "python",
   "name": "python3"
  },
  "language_info": {
   "codemirror_mode": {
    "name": "ipython",
    "version": 3
   },
   "file_extension": ".py",
   "mimetype": "text/x-python",
   "name": "python",
   "nbconvert_exporter": "python",
   "pygments_lexer": "ipython3",
   "version": "3.12.7"
  }
 },
 "nbformat": 4,
 "nbformat_minor": 2
}
